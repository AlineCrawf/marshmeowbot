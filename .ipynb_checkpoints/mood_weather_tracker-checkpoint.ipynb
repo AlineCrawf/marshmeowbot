{
 "cells": [
  {
   "cell_type": "code",
   "execution_count": null,
   "id": "806b4ac2",
   "metadata": {},
   "outputs": [],
   "source": [
    "import aiogram\n",
    "from aiogram.types import InlineKeyboardButton, InlineKeyboardMarkup, ReplyKeyboardMarkup\n",
    "\n",
    "bot = aiogram.Bot(token='5918472294:AAGYqlSwmdwbFvnTroam00EyIRfL4tnINDE')\n",
    "\n",
    "\n",
    "async def get_mood(message):\n",
    "    keyboard = InlineKeyboardMarkup()\n",
    "    happy_button = InlineKeyboardButton('Happy', callback_data='happy')\n",
    "    meh_button = InlineKeyboardButton('Meh', callback_data='meh')\n",
    "    sad_button = InlineKeyboardButton('Sad', callback_data='sad')\n",
    "    keyboard.add(happy_button, meh_button, sad_button)\n",
    "    text = \"What's your mood today?\"\n",
    "    await bot.send_message(chat_id=message.from_user.id, text=text, reply_markup=keyboard)\n",
    "    \n",
    "async def weather_tracker(message):\n",
    "    keyboard = ReplyKeyboardMarkup()\n",
    "    button = KeyboardButton(text=\"Send my location\", request_location=True)\n",
    "    keyboard.add(button)\n",
    "    text = \"Please send your location to get the current weather\"\n",
    "    await bot.send_message(chat_id=message.from_user.id, text=text, reply_markup=keyboard)\n",
    "    \n",
    "async def get_moon_phase(date):\n",
    "    url = f'http://api.usno.navy.mil/moon/phase?date={date}&nump={1}'\n",
    "    response = requests.get(url)\n",
    "    data = response.json()\n",
    "    phase = data['phasedata'][0]['phase']\n",
    "    return phase\n",
    "\n",
    "async def moon_phase_tracker(message):\n",
    "    date = datetime.datetime.now().strftime(\"%Y-%m-%d\")\n",
    "    phase = get_moon_phase(date)\n",
    "    text = f\"The current moon phase is {phase}.\"\n",
    "    await bot.send_message(chat_id=message.from_user.id, text=text)\n",
    "\n",
    "@bot.message_handler(content_types=['location'])\n",
    "async def process_location(message: types.Message):\n",
    "    lat = message.location.latitude\n",
    "    lon = message.location.longitude\n",
    "    url = f'http://api.openweathermap.org/data/2.5/weather?lat={lat}&lon={lon}&appid={'45bd10a5036ab9086034fac86c62ac73'}'\n",
    "    response = requests.get(url)\n",
    "    data = response.json()\n",
    "    weather = data['weather'][0]['main']\n",
    "    mood = get_mood(weather)\n",
    "    text = f\"The current weather in your location is {weather}. I'm feeling {mood}.\"\n",
    "    await bot.send_message(chat_id=message.from_user.id, text=text)\n",
    "    \n",
    "@bot.callback_query_handler(lambda c: c.data == 'check_weather')\n",
    "async def process_callback_weather_tracker(callback_query: types.CallbackQuery):\n",
    "    await weather_tracker(callback_query.message)\n",
    "    \n",
    "@bot.callback_query_handler(lambda c: c.data in ['happy', 'meh', 'sad'])\n",
    "async def process_callback_mood(callback_query: aiogram.types.CallbackQuery):\n",
    "    mood = callback_query.data\n",
    "    await bot.send_message(chat_id=callback_query.from_user.id, text=f\"Your mood is {mood}\")\n"
   ]
  }
 ],
 "metadata": {
  "kernelspec": {
   "display_name": "Python 3 (ipykernel)",
   "language": "python",
   "name": "python3"
  },
  "language_info": {
   "codemirror_mode": {
    "name": "ipython",
    "version": 3
   },
   "file_extension": ".py",
   "mimetype": "text/x-python",
   "name": "python",
   "nbconvert_exporter": "python",
   "pygments_lexer": "ipython3",
   "version": "3.10.9"
  }
 },
 "nbformat": 4,
 "nbformat_minor": 5
}
